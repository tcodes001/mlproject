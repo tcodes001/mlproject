{
 "cells": [
  {
   "cell_type": "markdown",
   "id": "0fdf333a",
   "metadata": {},
   "source": [
    "## Model Training\n"
   ]
  },
  {
   "cell_type": "markdown",
   "id": "d226f8b1",
   "metadata": {},
   "source": [
    "### 1.1 Import Data and Required Packages"
   ]
  },
  {
   "cell_type": "code",
   "execution_count": 1,
   "id": "76274b29",
   "metadata": {},
   "outputs": [],
   "source": [
    "# Basic Import\n",
    "import pandas as pd\n",
    "import numpy as np\n",
    "import seaborn as sns\n",
    "import matplotlib.pyplot as plt\n",
    "\n",
    "#Modelling\n",
    "from sklearn.metrics import mean_squared_error, r2_score, mean_absolute_error\n",
    "from sklearn.neighbors import KNeighborsRegressor\n",
    "from sklearn.tree import DecisionTreeRegressor\n",
    "from sklearn.ensemble import RandomForestRegressor, AdaBoostRegressor\n",
    "from sklearn.svm import SVR\n",
    "from sklearn.linear_model import LinearRegression, Lasso, Ridge\n",
    "from sklearn.model_selection import RandomizedSearchCV\n",
    "from catboost import CatBoostRegressor\n",
    "from xgboost import XGBRegressor\n",
    "import warnings\n",
    "from sklearn.decomposition import PCA\n",
    "from sklearn.pipeline import Pipeline\n"
   ]
  },
  {
   "cell_type": "markdown",
   "id": "377c1d70",
   "metadata": {},
   "source": [
    "### Import the CSV Data as Pandas DataFrame"
   ]
  },
  {
   "cell_type": "code",
   "execution_count": 2,
   "id": "c19097e9",
   "metadata": {},
   "outputs": [],
   "source": [
    "df = pd.read_csv('data/stud.csv')\n"
   ]
  },
  {
   "cell_type": "code",
   "execution_count": 3,
   "id": "dac358a1",
   "metadata": {},
   "outputs": [
    {
     "data": {
      "text/html": [
       "<div>\n",
       "<style scoped>\n",
       "    .dataframe tbody tr th:only-of-type {\n",
       "        vertical-align: middle;\n",
       "    }\n",
       "\n",
       "    .dataframe tbody tr th {\n",
       "        vertical-align: top;\n",
       "    }\n",
       "\n",
       "    .dataframe thead th {\n",
       "        text-align: right;\n",
       "    }\n",
       "</style>\n",
       "<table border=\"1\" class=\"dataframe\">\n",
       "  <thead>\n",
       "    <tr style=\"text-align: right;\">\n",
       "      <th></th>\n",
       "      <th>gender</th>\n",
       "      <th>race_ethnicity</th>\n",
       "      <th>parental_level_of_education</th>\n",
       "      <th>lunch</th>\n",
       "      <th>test_preparation_course</th>\n",
       "      <th>math_score</th>\n",
       "      <th>reading_score</th>\n",
       "      <th>writing_score</th>\n",
       "    </tr>\n",
       "  </thead>\n",
       "  <tbody>\n",
       "    <tr>\n",
       "      <th>0</th>\n",
       "      <td>female</td>\n",
       "      <td>group B</td>\n",
       "      <td>bachelor's degree</td>\n",
       "      <td>standard</td>\n",
       "      <td>none</td>\n",
       "      <td>72</td>\n",
       "      <td>72</td>\n",
       "      <td>74</td>\n",
       "    </tr>\n",
       "    <tr>\n",
       "      <th>1</th>\n",
       "      <td>female</td>\n",
       "      <td>group C</td>\n",
       "      <td>some college</td>\n",
       "      <td>standard</td>\n",
       "      <td>completed</td>\n",
       "      <td>69</td>\n",
       "      <td>90</td>\n",
       "      <td>88</td>\n",
       "    </tr>\n",
       "    <tr>\n",
       "      <th>2</th>\n",
       "      <td>female</td>\n",
       "      <td>group B</td>\n",
       "      <td>master's degree</td>\n",
       "      <td>standard</td>\n",
       "      <td>none</td>\n",
       "      <td>90</td>\n",
       "      <td>95</td>\n",
       "      <td>93</td>\n",
       "    </tr>\n",
       "    <tr>\n",
       "      <th>3</th>\n",
       "      <td>male</td>\n",
       "      <td>group A</td>\n",
       "      <td>associate's degree</td>\n",
       "      <td>free/reduced</td>\n",
       "      <td>none</td>\n",
       "      <td>47</td>\n",
       "      <td>57</td>\n",
       "      <td>44</td>\n",
       "    </tr>\n",
       "    <tr>\n",
       "      <th>4</th>\n",
       "      <td>male</td>\n",
       "      <td>group C</td>\n",
       "      <td>some college</td>\n",
       "      <td>standard</td>\n",
       "      <td>none</td>\n",
       "      <td>76</td>\n",
       "      <td>78</td>\n",
       "      <td>75</td>\n",
       "    </tr>\n",
       "  </tbody>\n",
       "</table>\n",
       "</div>"
      ],
      "text/plain": [
       "   gender race_ethnicity parental_level_of_education         lunch  \\\n",
       "0  female        group B           bachelor's degree      standard   \n",
       "1  female        group C                some college      standard   \n",
       "2  female        group B             master's degree      standard   \n",
       "3    male        group A          associate's degree  free/reduced   \n",
       "4    male        group C                some college      standard   \n",
       "\n",
       "  test_preparation_course  math_score  reading_score  writing_score  \n",
       "0                    none          72             72             74  \n",
       "1               completed          69             90             88  \n",
       "2                    none          90             95             93  \n",
       "3                    none          47             57             44  \n",
       "4                    none          76             78             75  "
      ]
     },
     "execution_count": 3,
     "metadata": {},
     "output_type": "execute_result"
    }
   ],
   "source": [
    "df.head()"
   ]
  },
  {
   "cell_type": "code",
   "execution_count": 4,
   "id": "2072e042",
   "metadata": {},
   "outputs": [],
   "source": [
    "X = df.drop(columns=['math_score'], axis=1)"
   ]
  },
  {
   "cell_type": "code",
   "execution_count": 5,
   "id": "fe0c74f4",
   "metadata": {},
   "outputs": [
    {
     "name": "stdout",
     "output_type": "stream",
     "text": [
      "Correlation between reading and writing score: 0.95\n"
     ]
    }
   ],
   "source": [
    "correlation = X[\"reading_score\"].corr(X[\"writing_score\"])\n",
    "print(f\"Correlation between reading and writing score: {correlation:.2f}\")\n"
   ]
  },
  {
   "cell_type": "code",
   "execution_count": 6,
   "id": "3af709a0",
   "metadata": {},
   "outputs": [],
   "source": [
    "X['reading_writing_avg'] = (X['reading_score'] + X['writing_score']) / 2\n",
    "X.drop(['reading_score', 'writing_score'], axis=1, inplace=True)"
   ]
  },
  {
   "cell_type": "code",
   "execution_count": 7,
   "id": "1a263c79",
   "metadata": {},
   "outputs": [],
   "source": [
    "y = df['math_score']\n"
   ]
  },
  {
   "cell_type": "markdown",
   "id": "6ece0ffc",
   "metadata": {},
   "source": [
    "### Creating Column Transformer with 3 types of transformers"
   ]
  },
  {
   "cell_type": "code",
   "execution_count": 8,
   "id": "4e3a2167",
   "metadata": {},
   "outputs": [],
   "source": [
    "cat_features = X.select_dtypes(include='object').columns\n",
    "num_features = X.select_dtypes(exclude='object').columns\n",
    "\n",
    "from sklearn.preprocessing import OneHotEncoder, StandardScaler\n",
    "from sklearn.compose import ColumnTransformer\n",
    "\n",
    "numeric_transformer = StandardScaler()\n",
    "oh_transformer = OneHotEncoder(drop='first', sparse_output= False)\n",
    "\n",
    "preprocessor = ColumnTransformer(\n",
    "    [\n",
    "        (\"OnehotEncoder\", oh_transformer, cat_features),\n",
    "        (\"StandardScaler\", numeric_transformer, num_features)\n",
    "    ]\n",
    ")\n"
   ]
  },
  {
   "cell_type": "markdown",
   "id": "9c24070f",
   "metadata": {},
   "source": [
    "### Separating Dataset into train and test data"
   ]
  },
  {
   "cell_type": "code",
   "execution_count": 9,
   "id": "3bbf84b1",
   "metadata": {},
   "outputs": [],
   "source": [
    "from sklearn.model_selection import train_test_split\n",
    "\n",
    "# Split the linear version\n",
    "X_train_raw, X_test_raw, y_train, y_test = train_test_split(\n",
    "    X, y, test_size=0.2, random_state=42\n",
    ")"
   ]
  },
  {
   "cell_type": "code",
   "execution_count": 10,
   "id": "1d09f8c7",
   "metadata": {},
   "outputs": [],
   "source": [
    "X_train = preprocessor.fit_transform(X_train_raw)\n",
    "X_test = preprocessor.transform(X_test_raw)"
   ]
  },
  {
   "cell_type": "code",
   "execution_count": 11,
   "id": "5c1e7f00",
   "metadata": {},
   "outputs": [
    {
     "name": "stdout",
     "output_type": "stream",
     "text": [
      "(800, 13)\n",
      "(200, 13)\n"
     ]
    }
   ],
   "source": [
    "print(X_train.shape)\n",
    "print(X_test.shape)\n"
   ]
  },
  {
   "cell_type": "markdown",
   "id": "fd3f1d57",
   "metadata": {},
   "source": [
    "## Create an Evaluate Function to give all metrics after model Training"
   ]
  },
  {
   "cell_type": "code",
   "execution_count": 12,
   "id": "cc4b704f",
   "metadata": {},
   "outputs": [],
   "source": [
    "def evaluate_model(true,predicted):\n",
    "    mae = mean_absolute_error(true,predicted)\n",
    "    mse = mean_squared_error(true, predicted)\n",
    "    rmse = np.sqrt(mean_squared_error(true, predicted))\n",
    "    r2_square = r2_score(true, predicted)\n",
    "    return mae,rmse, r2_square"
   ]
  },
  {
   "cell_type": "code",
   "execution_count": 13,
   "id": "f082dde7",
   "metadata": {},
   "outputs": [
    {
     "name": "stdout",
     "output_type": "stream",
     "text": [
      "Linear Regression\n",
      "Model performance for train data\n",
      "- Root Mean Square Error is 5.4080\n",
      "- Mean Absolute Error: 4.3009\n",
      "- R2 Score: 0.8703\n",
      "----------------------------------\n",
      "Model performance for test data\n",
      "- Root Mean Square Error is 5.3997\n",
      "- Mean Absolute Error: 4.2122\n",
      "- R2 Score: 0.8802\n",
      "===================================\n",
      "\n",
      "\n",
      "Lasso\n",
      "Model performance for train data\n",
      "- Root Mean Square Error is 6.5923\n",
      "- Mean Absolute Error: 5.2055\n",
      "- R2 Score: 0.8072\n",
      "----------------------------------\n",
      "Model performance for test data\n",
      "- Root Mean Square Error is 6.5139\n",
      "- Mean Absolute Error: 5.1523\n",
      "- R2 Score: 0.8256\n",
      "===================================\n",
      "\n",
      "\n",
      "Ridge\n",
      "Model performance for train data\n",
      "- Root Mean Square Error is 5.4082\n",
      "- Mean Absolute Error: 4.3007\n",
      "- R2 Score: 0.8703\n",
      "----------------------------------\n",
      "Model performance for test data\n",
      "- Root Mean Square Error is 5.4045\n",
      "- Mean Absolute Error: 4.2123\n",
      "- R2 Score: 0.8800\n",
      "===================================\n",
      "\n",
      "\n",
      "K-Neighbors Regressor\n",
      "Model performance for train data\n",
      "- Root Mean Square Error is 6.0383\n",
      "- Mean Absolute Error: 4.8235\n",
      "- R2 Score: 0.8383\n",
      "----------------------------------\n",
      "Model performance for test data\n",
      "- Root Mean Square Error is 7.8843\n",
      "- Mean Absolute Error: 6.1100\n",
      "- R2 Score: 0.7445\n",
      "===================================\n",
      "\n",
      "\n",
      "Decision Tree\n",
      "Model performance for train data\n",
      "- Root Mean Square Error is 0.8097\n",
      "- Mean Absolute Error: 0.1412\n",
      "- R2 Score: 0.9971\n",
      "----------------------------------\n",
      "Model performance for test data\n",
      "- Root Mean Square Error is 8.6886\n",
      "- Mean Absolute Error: 6.7925\n",
      "- R2 Score: 0.6898\n",
      "===================================\n",
      "\n",
      "\n",
      "Random Forest Regressor\n",
      "Model performance for train data\n",
      "- Root Mean Square Error is 2.4427\n",
      "- Mean Absolute Error: 1.9447\n",
      "- R2 Score: 0.9735\n",
      "----------------------------------\n",
      "Model performance for test data\n",
      "- Root Mean Square Error is 6.4443\n",
      "- Mean Absolute Error: 4.9822\n",
      "- R2 Score: 0.8293\n",
      "===================================\n",
      "\n",
      "\n",
      "XGBRegressor\n",
      "Model performance for train data\n",
      "- Root Mean Square Error is 1.5556\n",
      "- Mean Absolute Error: 1.0460\n",
      "- R2 Score: 0.9893\n",
      "----------------------------------\n",
      "Model performance for test data\n",
      "- Root Mean Square Error is 6.9362\n",
      "- Mean Absolute Error: 5.5130\n",
      "- R2 Score: 0.8023\n",
      "===================================\n",
      "\n",
      "\n",
      "CatBoosting Regressor\n",
      "Model performance for train data\n",
      "- Root Mean Square Error is 3.5230\n",
      "- Mean Absolute Error: 2.7890\n",
      "- R2 Score: 0.9449\n",
      "----------------------------------\n",
      "Model performance for test data\n",
      "- Root Mean Square Error is 6.2174\n",
      "- Mean Absolute Error: 4.7780\n",
      "- R2 Score: 0.8411\n",
      "===================================\n",
      "\n",
      "\n",
      "AdaBoost Regressor\n",
      "Model performance for train data\n",
      "- Root Mean Square Error is 5.7749\n",
      "- Mean Absolute Error: 4.6771\n",
      "- R2 Score: 0.8521\n",
      "----------------------------------\n",
      "Model performance for test data\n",
      "- Root Mean Square Error is 6.0039\n",
      "- Mean Absolute Error: 4.7448\n",
      "- R2 Score: 0.8519\n",
      "===================================\n",
      "\n",
      "\n"
     ]
    }
   ],
   "source": [
    "import pdb\n",
    "import warnings\n",
    "models = {\n",
    "    \n",
    "    \"Linear Regression\": LinearRegression(),\n",
    "    \"Lasso\": Lasso(alpha=1.0, max_iter=10000),\n",
    "    \"Ridge\": Ridge(),\n",
    "    \"K-Neighbors Regressor\": KNeighborsRegressor(),\n",
    "    \"Decision Tree\": DecisionTreeRegressor(),\n",
    "    \"Random Forest Regressor\": RandomForestRegressor(),\n",
    "    \"XGBRegressor\": XGBRegressor(), \n",
    "    \"CatBoosting Regressor\": CatBoostRegressor(verbose=False),\n",
    "    \"AdaBoost Regressor\": AdaBoostRegressor()\n",
    "    \n",
    "}\n",
    "model_list = []\n",
    "r2_list = []\n",
    "warnings.simplefilter(\"error\", RuntimeWarning)\n",
    "\n",
    "for i in range(len(list(models))):\n",
    "    model = list(models.values())[i]\n",
    "    \n",
    "    try:\n",
    "        model.fit(X_train, y_train)\n",
    "            \n",
    "        y_train_pred = model.predict(X_train)\n",
    "        y_test_pred = model.predict(X_test)\n",
    "\n",
    "\n",
    "        model_train_mae, model_train_rmse, model_train_r2 = evaluate_model(y_train, y_train_pred)\n",
    "        model_test_mae, model_test_rmse, model_test_r2 = evaluate_model(y_test, y_test_pred)\n",
    "\n",
    "        print(list(models.keys())[i])\n",
    "        model_list.append(list(models.keys())[i])\n",
    "\n",
    "        print('Model performance for train data')\n",
    "        print('- Root Mean Square Error is {:.4f}'.format(model_train_rmse))\n",
    "        print(\"- Mean Absolute Error: {:.4f}\".format(model_train_mae))\n",
    "        print(\"- R2 Score: {:.4f}\".format(model_train_r2))\n",
    "        print('----------------------------------')\n",
    "        \n",
    "        print('Model performance for test data')\n",
    "        print('- Root Mean Square Error is {:.4f}'.format(model_test_rmse))\n",
    "        print(\"- Mean Absolute Error: {:.4f}\".format(model_test_mae))\n",
    "        print(\"- R2 Score: {:.4f}\".format(model_test_r2))\n",
    "\n",
    "        r2_list.append(model_test_r2)\n",
    "\n",
    "        print('='*35)\n",
    "        print('\\n')\n",
    "    except RuntimeWarning as e:\n",
    "        print(f\"RuntimeWarning caught: {e}\")\n",
    "        pdb.post_mortem()\n"
   ]
  },
  {
   "cell_type": "code",
   "execution_count": 14,
   "id": "32f92944",
   "metadata": {},
   "outputs": [
    {
     "name": "stdout",
     "output_type": "stream",
     "text": [
      "Condition number of X_train: 7.748407409213891\n"
     ]
    }
   ],
   "source": [
    "print(\"Condition number of X_train:\", np.linalg.cond(X_train))"
   ]
  },
  {
   "cell_type": "markdown",
   "id": "d97b6b47",
   "metadata": {},
   "source": [
    "## Results"
   ]
  },
  {
   "cell_type": "code",
   "execution_count": 15,
   "id": "522c7749",
   "metadata": {},
   "outputs": [
    {
     "data": {
      "text/html": [
       "<div>\n",
       "<style scoped>\n",
       "    .dataframe tbody tr th:only-of-type {\n",
       "        vertical-align: middle;\n",
       "    }\n",
       "\n",
       "    .dataframe tbody tr th {\n",
       "        vertical-align: top;\n",
       "    }\n",
       "\n",
       "    .dataframe thead th {\n",
       "        text-align: right;\n",
       "    }\n",
       "</style>\n",
       "<table border=\"1\" class=\"dataframe\">\n",
       "  <thead>\n",
       "    <tr style=\"text-align: right;\">\n",
       "      <th></th>\n",
       "      <th>Model Name</th>\n",
       "      <th>R2_Score</th>\n",
       "    </tr>\n",
       "  </thead>\n",
       "  <tbody>\n",
       "    <tr>\n",
       "      <th>0</th>\n",
       "      <td>Linear Regression</td>\n",
       "      <td>0.880180</td>\n",
       "    </tr>\n",
       "    <tr>\n",
       "      <th>2</th>\n",
       "      <td>Ridge</td>\n",
       "      <td>0.879967</td>\n",
       "    </tr>\n",
       "    <tr>\n",
       "      <th>8</th>\n",
       "      <td>AdaBoost Regressor</td>\n",
       "      <td>0.851864</td>\n",
       "    </tr>\n",
       "    <tr>\n",
       "      <th>7</th>\n",
       "      <td>CatBoosting Regressor</td>\n",
       "      <td>0.841145</td>\n",
       "    </tr>\n",
       "    <tr>\n",
       "      <th>5</th>\n",
       "      <td>Random Forest Regressor</td>\n",
       "      <td>0.829338</td>\n",
       "    </tr>\n",
       "    <tr>\n",
       "      <th>1</th>\n",
       "      <td>Lasso</td>\n",
       "      <td>0.825632</td>\n",
       "    </tr>\n",
       "    <tr>\n",
       "      <th>6</th>\n",
       "      <td>XGBRegressor</td>\n",
       "      <td>0.802288</td>\n",
       "    </tr>\n",
       "    <tr>\n",
       "      <th>3</th>\n",
       "      <td>K-Neighbors Regressor</td>\n",
       "      <td>0.744542</td>\n",
       "    </tr>\n",
       "    <tr>\n",
       "      <th>4</th>\n",
       "      <td>Decision Tree</td>\n",
       "      <td>0.689768</td>\n",
       "    </tr>\n",
       "  </tbody>\n",
       "</table>\n",
       "</div>"
      ],
      "text/plain": [
       "                Model Name  R2_Score\n",
       "0        Linear Regression  0.880180\n",
       "2                    Ridge  0.879967\n",
       "8       AdaBoost Regressor  0.851864\n",
       "7    CatBoosting Regressor  0.841145\n",
       "5  Random Forest Regressor  0.829338\n",
       "1                    Lasso  0.825632\n",
       "6             XGBRegressor  0.802288\n",
       "3    K-Neighbors Regressor  0.744542\n",
       "4            Decision Tree  0.689768"
      ]
     },
     "execution_count": 15,
     "metadata": {},
     "output_type": "execute_result"
    }
   ],
   "source": [
    "pd.DataFrame(list(zip(model_list, r2_list)), columns=['Model Name', 'R2_Score']).sort_values(by=[\"R2_Score\"],ascending=False)\n"
   ]
  },
  {
   "cell_type": "markdown",
   "id": "18860973",
   "metadata": {},
   "source": [
    "## Linear Regression"
   ]
  },
  {
   "cell_type": "code",
   "execution_count": 16,
   "id": "929fc29d",
   "metadata": {},
   "outputs": [
    {
     "name": "stdout",
     "output_type": "stream",
     "text": [
      " Accuracy of the model is 88.02\n"
     ]
    }
   ],
   "source": [
    "\n",
    "lin_model = LinearRegression(fit_intercept=True)\n",
    "lin_model = lin_model.fit(X_train, y_train)\n",
    "y_pred = lin_model.predict(X_test)\n",
    "score = r2_score(y_test, y_pred)*100\n",
    "print(\" Accuracy of the model is %.2f\" %score)"
   ]
  },
  {
   "cell_type": "markdown",
   "id": "1c830e94",
   "metadata": {},
   "source": [
    "## Plotting y_pred and y_test"
   ]
  },
  {
   "cell_type": "code",
   "execution_count": 17,
   "id": "6b11281c",
   "metadata": {},
   "outputs": [
    {
     "data": {
      "image/png": "[encoded data removed]",
      "text/plain": [
       "<Figure size 640x480 with 1 Axes>"
      ]
     },
     "metadata": {},
     "output_type": "display_data"
    }
   ],
   "source": [
    "plt.scatter(y_test,y_pred);\n",
    "plt.xlabel('Actual');\n",
    "plt.ylabel('Predicted');"
   ]
  },
  {
   "cell_type": "code",
   "execution_count": 18,
   "id": "9b4650da",
   "metadata": {},
   "outputs": [
    {
     "data": {
      "image/png": "[encoded data removed]",
      "text/plain": [
       "<Figure size 640x480 with 1 Axes>"
      ]
     },
     "metadata": {},
     "output_type": "display_data"
    }
   ],
   "source": [
    "sns.regplot(x=y_test,y=y_pred,ci=None,color ='red');\n"
   ]
  },
  {
   "cell_type": "markdown",
   "id": "a4da189d",
   "metadata": {},
   "source": [
    "### Difference between Actual and Predicted Values\n"
   ]
  },
  {
   "cell_type": "code",
   "execution_count": 19,
   "id": "f7a91d3c",
   "metadata": {},
   "outputs": [
    {
     "data": {
      "text/html": [
       "<div>\n",
       "<style scoped>\n",
       "    .dataframe tbody tr th:only-of-type {\n",
       "        vertical-align: middle;\n",
       "    }\n",
       "\n",
       "    .dataframe tbody tr th {\n",
       "        vertical-align: top;\n",
       "    }\n",
       "\n",
       "    .dataframe thead th {\n",
       "        text-align: right;\n",
       "    }\n",
       "</style>\n",
       "<table border=\"1\" class=\"dataframe\">\n",
       "  <thead>\n",
       "    <tr style=\"text-align: right;\">\n",
       "      <th></th>\n",
       "      <th>Actual Value</th>\n",
       "      <th>Predicted Value</th>\n",
       "      <th>Difference</th>\n",
       "    </tr>\n",
       "  </thead>\n",
       "  <tbody>\n",
       "    <tr>\n",
       "      <th>521</th>\n",
       "      <td>91</td>\n",
       "      <td>76.656724</td>\n",
       "      <td>14.343276</td>\n",
       "    </tr>\n",
       "    <tr>\n",
       "      <th>737</th>\n",
       "      <td>53</td>\n",
       "      <td>57.362375</td>\n",
       "      <td>-4.362375</td>\n",
       "    </tr>\n",
       "    <tr>\n",
       "      <th>740</th>\n",
       "      <td>80</td>\n",
       "      <td>77.232963</td>\n",
       "      <td>2.767037</td>\n",
       "    </tr>\n",
       "    <tr>\n",
       "      <th>660</th>\n",
       "      <td>74</td>\n",
       "      <td>76.794050</td>\n",
       "      <td>-2.794050</td>\n",
       "    </tr>\n",
       "    <tr>\n",
       "      <th>411</th>\n",
       "      <td>84</td>\n",
       "      <td>88.627270</td>\n",
       "      <td>-4.627270</td>\n",
       "    </tr>\n",
       "    <tr>\n",
       "      <th>...</th>\n",
       "      <td>...</td>\n",
       "      <td>...</td>\n",
       "      <td>...</td>\n",
       "    </tr>\n",
       "    <tr>\n",
       "      <th>408</th>\n",
       "      <td>52</td>\n",
       "      <td>44.062446</td>\n",
       "      <td>7.937554</td>\n",
       "    </tr>\n",
       "    <tr>\n",
       "      <th>332</th>\n",
       "      <td>62</td>\n",
       "      <td>62.880864</td>\n",
       "      <td>-0.880864</td>\n",
       "    </tr>\n",
       "    <tr>\n",
       "      <th>208</th>\n",
       "      <td>74</td>\n",
       "      <td>68.501573</td>\n",
       "      <td>5.498427</td>\n",
       "    </tr>\n",
       "    <tr>\n",
       "      <th>613</th>\n",
       "      <td>65</td>\n",
       "      <td>67.616642</td>\n",
       "      <td>-2.616642</td>\n",
       "    </tr>\n",
       "    <tr>\n",
       "      <th>78</th>\n",
       "      <td>61</td>\n",
       "      <td>63.414663</td>\n",
       "      <td>-2.414663</td>\n",
       "    </tr>\n",
       "  </tbody>\n",
       "</table>\n",
       "<p>200 rows × 3 columns</p>\n",
       "</div>"
      ],
      "text/plain": [
       "     Actual Value  Predicted Value  Difference\n",
       "521            91        76.656724   14.343276\n",
       "737            53        57.362375   -4.362375\n",
       "740            80        77.232963    2.767037\n",
       "660            74        76.794050   -2.794050\n",
       "411            84        88.627270   -4.627270\n",
       "..            ...              ...         ...\n",
       "408            52        44.062446    7.937554\n",
       "332            62        62.880864   -0.880864\n",
       "208            74        68.501573    5.498427\n",
       "613            65        67.616642   -2.616642\n",
       "78             61        63.414663   -2.414663\n",
       "\n",
       "[200 rows x 3 columns]"
      ]
     },
     "execution_count": 19,
     "metadata": {},
     "output_type": "execute_result"
    }
   ],
   "source": [
    "pred_df=pd.DataFrame({'Actual Value':y_test,'Predicted Value':y_pred,'Difference':y_test-y_pred})\n",
    "pred_df"
   ]
  }
 ],
 "metadata": {
  "kernelspec": {
   "display_name": "ml-env",
   "language": "python",
   "name": "python3"
  },
  "language_info": {
   "codemirror_mode": {
    "name": "ipython",
    "version": 3
   },
   "file_extension": ".py",
   "mimetype": "text/x-python",
   "name": "python",
   "nbconvert_exporter": "python",
   "pygments_lexer": "ipython3",
   "version": "3.12.9"
  }
 },
 "nbformat": 4,
 "nbformat_minor": 5
}
